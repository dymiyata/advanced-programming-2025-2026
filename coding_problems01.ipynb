{
  "nbformat": 4,
  "nbformat_minor": 0,
  "metadata": {
    "colab": {
      "provenance": [],
      "include_colab_link": true
    },
    "kernelspec": {
      "name": "python3",
      "display_name": "Python 3"
    },
    "language_info": {
      "name": "python"
    }
  },
  "cells": [
    {
      "cell_type": "markdown",
      "metadata": {
        "id": "view-in-github",
        "colab_type": "text"
      },
      "source": [
        "<a href=\"https://colab.research.google.com/github/dymiyata/advanced-programming-2025-2026/blob/main/coding_problems01.ipynb\" target=\"_parent\"><img src=\"https://colab.research.google.com/assets/colab-badge.svg\" alt=\"Open In Colab\"/></a>"
      ]
    },
    {
      "cell_type": "markdown",
      "source": [
        "# Coding Problems\n",
        "\n",
        "These are some problems to help me gauge where everyone is with their programming knowledge."
      ],
      "metadata": {
        "id": "JUHP_nP6A8WE"
      }
    },
    {
      "cell_type": "markdown",
      "source": [
        "### Coding Problem 1\n",
        "\n",
        "Write a function `is_even` which takes an integer `n` as input.  It should return `True` if the input is even and `False` if the input is odd."
      ],
      "metadata": {
        "id": "RG3AsK2mCJPp"
      }
    },
    {
      "cell_type": "code",
      "source": [],
      "metadata": {
        "id": "bDTcPgcFCFry"
      },
      "execution_count": null,
      "outputs": []
    },
    {
      "cell_type": "markdown",
      "source": [
        "### Coding Problem 2\n",
        "\n",
        "Write a function `triangular_number` with takes a positive integer `n` as input and returns the sum of the integers from 1 to `n`.  \n",
        "\n",
        "Do you know why we're calling this function `triangular_number`?"
      ],
      "metadata": {
        "id": "7-72YipRCNVO"
      }
    },
    {
      "cell_type": "code",
      "source": [],
      "metadata": {
        "id": "LqogD4TQDgqH"
      },
      "execution_count": null,
      "outputs": []
    },
    {
      "cell_type": "markdown",
      "source": [
        "### Coding Problem 3\n",
        "\n",
        "Write a function `sum_of_squares` that takes a positive integer `n` as input and returns the sum of the squares of the integers from 1 to `n`.\n",
        "\n",
        "For example\n",
        "* `sum_of_squares(3)` should give `14` because $1^2 + 2^2 + 3^2 = 14$\n",
        "* `sum_of_squares(50)` should give `42925`"
      ],
      "metadata": {
        "id": "7TYzqLSWGkdS"
      }
    },
    {
      "cell_type": "code",
      "source": [],
      "metadata": {
        "id": "RdvQlelNHb-Z"
      },
      "execution_count": null,
      "outputs": []
    },
    {
      "cell_type": "markdown",
      "source": [
        "### Coding Problem 3\n",
        "\n",
        "Write a function `is_prime` which takes a positive integer `n` as input and returns `True` if `n` is a prime number and `False` if `n` is not prime."
      ],
      "metadata": {
        "id": "gkR80Q4VD6Xf"
      }
    },
    {
      "cell_type": "code",
      "source": [],
      "metadata": {
        "id": "QTodX2eGEQcl"
      },
      "execution_count": null,
      "outputs": []
    },
    {
      "cell_type": "markdown",
      "source": [
        "### Coding Problem 4\n",
        "\n",
        "Write a function `is_palindrome` which takes a positive integer `n` as input and returns `True` if it is a palindrome and false otherwise.  \n",
        "\n",
        "* A *palindrome* is a number that remains unchanged when the digits are reversed.  For example, 11, 2002, and 58785 are palindromes.  However, 25 is not (because when you reverse the digits you get 52).\n",
        "\n",
        "*Challenge:* Can you do this without converting the `n` to a string?"
      ],
      "metadata": {
        "id": "nFv3uAZCElW_"
      }
    },
    {
      "cell_type": "code",
      "source": [],
      "metadata": {
        "id": "RsugM9WwFIQ8"
      },
      "execution_count": null,
      "outputs": []
    },
    {
      "cell_type": "markdown",
      "source": [
        "### Coding Problem 5\n",
        "\n",
        "Implement the *Sieve of Eratosthenes*.  \n",
        "\n",
        "Specifically, create a function `sieve` which takes a positive integer `n` as input.  It should return a list of all prime numbers from 1 to `n`.\n",
        "\n",
        "For example,\n",
        "* `sieve(10)` should give `[2, 3, 5, 7]`\n",
        "* `sieve(19)` should give `[2, 3, 5, 7, 11, 13, 17, 19]`\n",
        "\n",
        "There is an \"easy\" way to do this which is by looping through the integers up to `n` and using our `is_prime` function above. However, this is quite inefficient.\n",
        "\n",
        "There is a better way! This is called the *Sieve of Eratosthenes*.\n",
        "* Consider writing out all of the integers from 1 to n.  \n",
        "* We will cross out all the non prime numbers so that the only numbers that remain are the primes from 1 to n.\n",
        "  * We can cross out 1 because 1 is not prime.   \n",
        "  * Then the smallest remaining number is 2 so it must be prime. Circle it.\n",
        "    * Cross out all the numbers greater than 2 that are divisible by 2 since they can't be prime.\n",
        "  * Then the next smallest remaining number will be 3 so it must be prime. Circle it.\n",
        "    * Cross out all the numbers greater than 3 that are divisible by 3.\n",
        "  * Then the next smallest remaining number will be 5 so it must be prime. Circle it.\n",
        "    * Cross out all the numbers greater than 5 that are divisible by 5.\n",
        "  * Repeat until all the numbers are either crossed out or circled.\n",
        "  * The numbers that are circled must be the primes from 1 to n.\n",
        "\n",
        "See if you can implement this in Python.\n",
        "\n",
        "(*Suggestion* : Start with a list of length `n` where every entry is `True` so the list looks like `[True, True, ... , True]`.  This list should represent the integers from 1 to `n`.  Then, implement the Sieve where \"crossing out\" is done by changing the corresponding entry to `False`.  By the end, the entries that remain `True` correspond to the primes and the entries that are `False` correspond to non primes.)\n",
        "\n",
        "(*Optimization:* You actually don't have to go through all the numbers. Can you figure out when you can stop \"crossing things out\"?  It may help to do some examples by hand)\n",
        "\n"
      ],
      "metadata": {
        "id": "7YSiB_fG4zoW"
      }
    },
    {
      "cell_type": "code",
      "source": [],
      "metadata": {
        "id": "fk7_5z7SAaFr"
      },
      "execution_count": null,
      "outputs": []
    }
  ]
}