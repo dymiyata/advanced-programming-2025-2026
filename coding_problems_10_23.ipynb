{
  "nbformat": 4,
  "nbformat_minor": 0,
  "metadata": {
    "colab": {
      "provenance": [],
      "authorship_tag": "ABX9TyOsBlNhdGP2GDkB9y/3kY7f",
      "include_colab_link": true
    },
    "kernelspec": {
      "name": "python3",
      "display_name": "Python 3"
    },
    "language_info": {
      "name": "python"
    }
  },
  "cells": [
    {
      "cell_type": "markdown",
      "metadata": {
        "id": "view-in-github",
        "colab_type": "text"
      },
      "source": [
        "<a href=\"https://colab.research.google.com/github/dymiyata/advanced-programming-2025-2026/blob/main/coding_problems_10_23.ipynb\" target=\"_parent\"><img src=\"https://colab.research.google.com/assets/colab-badge.svg\" alt=\"Open In Colab\"/></a>"
      ]
    },
    {
      "cell_type": "markdown",
      "source": [
        "# Coding Problems\n",
        "\n",
        "More fun coding problems!\n",
        "Today we will do Pair coding!"
      ],
      "metadata": {
        "id": "TYbbkZIzFMeB"
      }
    },
    {
      "cell_type": "markdown",
      "source": [
        "### Problem 1\n"
      ],
      "metadata": {
        "id": "qIi1bln_RTs0"
      }
    },
    {
      "cell_type": "code",
      "execution_count": null,
      "metadata": {
        "id": "tGjOtDPiEwyh"
      },
      "outputs": [],
      "source": []
    }
  ]
}