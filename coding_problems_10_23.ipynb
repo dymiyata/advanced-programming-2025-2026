{
  "nbformat": 4,
  "nbformat_minor": 0,
  "metadata": {
    "colab": {
      "provenance": [],
      "authorship_tag": "ABX9TyMVMFVNZ9IxKWRxdP/NTxRd",
      "include_colab_link": true
    },
    "kernelspec": {
      "name": "python3",
      "display_name": "Python 3"
    },
    "language_info": {
      "name": "python"
    }
  },
  "cells": [
    {
      "cell_type": "markdown",
      "metadata": {
        "id": "view-in-github",
        "colab_type": "text"
      },
      "source": [
        "<a href=\"https://colab.research.google.com/github/dymiyata/advanced-programming-2025-2026/blob/main/coding_problems_10_23.ipynb\" target=\"_parent\"><img src=\"https://colab.research.google.com/assets/colab-badge.svg\" alt=\"Open In Colab\"/></a>"
      ]
    },
    {
      "cell_type": "markdown",
      "source": [
        "# Coding Problems\n",
        "\n",
        "More fun coding problems!\n",
        "Today we will do Pair coding!"
      ],
      "metadata": {
        "id": "TYbbkZIzFMeB"
      }
    },
    {
      "cell_type": "markdown",
      "source": [
        "### Problem 01\n",
        "\n",
        "The *factorial* of a positive integer $n$ is the product of all positive integers from $1$ to $n$.  It is denoted by $n!$. For example,\n",
        "* $3! = 3 \\cdot 2 \\cdot 1 = 6$\n",
        "* $7! = 7 \\cdot 6 \\cdot 5 \\cdot 4 \\cdot 3 \\cdot 2 \\cdot 1 = 5040$\n",
        "\n",
        "Write a function `factorial` which takes a positive integer $n$ as input, and returns the value of $n!$.  \n",
        "\n",
        "*Note:* the Python Math library already has a built in factorial function. Do not use this, write your own from scratch.\n",
        "\n"
      ],
      "metadata": {
        "id": "iU6iLrwqatdN"
      }
    },
    {
      "cell_type": "markdown",
      "source": [
        "### Problem 02\n",
        "A *Pythagorean Triple* is a collection of three positive integers $a < b < c$ such that $a^2 + b^2 = c^2$.\n",
        "\n",
        "Write a function `print_pythag_trips` that takes an integer `n` as input, and prints all Pythagorean triples where $c\\leq$`n`.\n",
        "\n",
        "For example, `print_pythag_trips(15)` should print something like:\n",
        "\n",
        "```\n",
        "3 4 5\n",
        "8 6 10\n",
        "5 12 13\n",
        "```\n",
        "\n",
        "Make sure you don't print any repeats.  For example don't print:\n",
        "\n",
        "```\n",
        "3 4 5\n",
        "4 3 5\n",
        "```\n",
        "\n",
        "because these are considered the same Pythagorean triple."
      ],
      "metadata": {
        "id": "D7WCzcKGY0QL"
      }
    },
    {
      "cell_type": "markdown",
      "source": [
        "### Problem 03\n",
        "\n",
        "A *perfect number* is a number that is equal to the sum of all of its proper positive divisors (divisors of the number that are smaller than the number).\n",
        "\n",
        "For example $6$ is a perfect number because $ 1 + 2 + 3 = 6 $ and $ 1, 2,$ and $3$ are the proper divisors of $6$.\n",
        "\n",
        "Write code to find all perfect numbers less than 500.\n",
        "* I would start by writing a function that takes positive integer `n` as input and returns a list of all proper divisors of `n`\n",
        "* Then use this function to write another function that takes a positive integer `n` as input and returns `True` if `n` is a perfect number and `False` otherwise\n",
        "* Finally use this function to solve the problem\n",
        "\n",
        "\n",
        "\n"
      ],
      "metadata": {
        "id": "E5wJptJxWrN9"
      }
    },
    {
      "cell_type": "markdown",
      "source": [
        "### Problem 04\n",
        "\n",
        "The *digital root* of a positive integer is obtained by adding the digits of the integer.  Then with the resulting number, repeat this process until you're left with a single digit number.\n",
        "\n",
        "For example, the digital root of 17862 is computed is follows:\n",
        "\n",
        "$$\\begin{align} & 17862 \\\\\n",
        "  & 1+7+8+6+2 = 24 \\\\\n",
        "  & 2+ 4 = 6 \\end{align}$$\n",
        "\n",
        "So it's digital root is 6.\n",
        "\n",
        "Write a function that takes positive integer `n` as input and outputs the digital root of `n`"
      ],
      "metadata": {
        "id": "h5mUf9FkVLmF"
      }
    },
    {
      "cell_type": "markdown",
      "source": [
        "### Problem 05\n",
        "Write a function that returns a list of all palindrome numbers from 1 to 1000.  Remember from last class, a palindrome number is one that remains unchanged when you reverse the digits (Like 1551, or 347743)"
      ],
      "metadata": {
        "id": "RW-NPvJqUTtL"
      }
    },
    {
      "cell_type": "markdown",
      "source": [
        "### Problem 06\n",
        "\n",
        "Today in class we discussed a Collatz sequence and the Collatz conjecture.\n",
        "\n",
        "As a reminder, starting with a positive integer, you generate a Collatz sequence by repeating the following:\n",
        "* If you reach the number 1, then stop\n",
        "* If the number is even, divide it by 2\n",
        "* If the number is odd, multiply by 3 and add 1\n",
        "\n",
        "A famous unsolved question in is the *Collatz Conjecture* which says:\n",
        "> Every Collatz sequence eventually reaches 1.\n",
        "\n",
        "It is not known whether or not this is true.\n",
        "\n",
        "\n",
        "For this problem, rather than have you try to solve the Collatz Conjecture, I want you write code to figure out which number from 1 to 1000 produces the longest Collatz sequence.\n",
        "* You may want to write some helper functions along the way\n",
        "* For example, a function that returns the Collatz sequence for a given input would probably be helpful\n",
        "\n",
        "\n"
      ],
      "metadata": {
        "id": "qIi1bln_RTs0"
      }
    },
    {
      "cell_type": "code",
      "execution_count": null,
      "metadata": {
        "id": "tGjOtDPiEwyh"
      },
      "outputs": [],
      "source": []
    }
  ]
}