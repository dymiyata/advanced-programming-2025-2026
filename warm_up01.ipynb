{
  "nbformat": 4,
  "nbformat_minor": 0,
  "metadata": {
    "colab": {
      "provenance": [],
      "toc_visible": true,
      "include_colab_link": true
    },
    "kernelspec": {
      "name": "python3",
      "display_name": "Python 3"
    },
    "language_info": {
      "name": "python"
    }
  },
  "cells": [
    {
      "cell_type": "markdown",
      "metadata": {
        "id": "view-in-github",
        "colab_type": "text"
      },
      "source": [
        "<a href=\"https://colab.research.google.com/github/dymiyata/advanced-programming-2025-2026/blob/main/warm_up01.ipynb\" target=\"_parent\"><img src=\"https://colab.research.google.com/assets/colab-badge.svg\" alt=\"Open In Colab\"/></a>"
      ]
    },
    {
      "cell_type": "markdown",
      "source": [
        "# Warm-up\n",
        "\n",
        "This is just for me to get an idea of where everyone's at with their basic coding knowledge."
      ],
      "metadata": {
        "id": "gt7B-IBFiTlq"
      }
    },
    {
      "cell_type": "markdown",
      "source": [
        "### Problem 1\n",
        "What will be the value of `a` after the following code is executed?\n",
        "\n"
      ],
      "metadata": {
        "id": "ZzOMeK2RepHZ"
      }
    },
    {
      "cell_type": "code",
      "execution_count": null,
      "metadata": {
        "id": "XfvJ_E9Sa4vh"
      },
      "outputs": [],
      "source": [
        "a = 5\n",
        "if a > 3:\n",
        "  a = a + 2\n",
        "else:\n",
        "  a = a - 2"
      ]
    },
    {
      "cell_type": "markdown",
      "source": [
        "### Problem 2\n",
        "\n",
        "How many times will the following `while` loop print \"Hello\"?"
      ],
      "metadata": {
        "id": "LMS_UvfzfmdZ"
      }
    },
    {
      "cell_type": "code",
      "source": [
        "i = 5\n",
        "while i > 1:\n",
        "  print(\"Hello\")\n",
        "  i = i - 1"
      ],
      "metadata": {
        "id": "EkAFSlBqfdo9"
      },
      "execution_count": null,
      "outputs": []
    },
    {
      "cell_type": "markdown",
      "source": [
        "### Problem 3\n",
        "\n",
        "What is the result of the following expression?"
      ],
      "metadata": {
        "id": "3f3aW_qEgOX2"
      }
    },
    {
      "cell_type": "code",
      "source": [
        "5 < 8 and 3 > 1"
      ],
      "metadata": {
        "id": "lQQa_7ekf2Ix"
      },
      "execution_count": null,
      "outputs": []
    },
    {
      "cell_type": "markdown",
      "source": [
        "### Problem 4\n",
        "\n",
        "What will be the output of the following code?"
      ],
      "metadata": {
        "id": "Q4ka5qoZgr2L"
      }
    },
    {
      "cell_type": "code",
      "source": [
        "x = 5\n",
        "y = 10\n",
        "\n",
        "if x > 3 or y < 5:\n",
        "  print(\"It's True!\")\n",
        "else:\n",
        "  print(\"It's False!\")"
      ],
      "metadata": {
        "id": "tEe51A2UgeVC"
      },
      "execution_count": null,
      "outputs": []
    },
    {
      "cell_type": "markdown",
      "source": [
        "### Problem 5\n",
        "\n",
        "How many times will the following code print \"WVA\""
      ],
      "metadata": {
        "id": "pdgRt_0ehZL8"
      }
    },
    {
      "cell_type": "code",
      "source": [
        "for i in range(3):\n",
        "  for j in range(4):\n",
        "    print(\"WVA\")"
      ],
      "metadata": {
        "id": "ckJ3Djm7hQ4_"
      },
      "execution_count": null,
      "outputs": []
    },
    {
      "cell_type": "markdown",
      "source": [
        "### Problem 6\n",
        "\n",
        "What will be the output of the following code?"
      ],
      "metadata": {
        "id": "2dTsgHNr7L_k"
      }
    },
    {
      "cell_type": "code",
      "source": [
        "def a_function(n):\n",
        "  return n + 1\n",
        "\n",
        "print(a_function(5))"
      ],
      "metadata": {
        "collapsed": true,
        "id": "kmZWCWrjh6KC"
      },
      "execution_count": null,
      "outputs": []
    },
    {
      "cell_type": "markdown",
      "source": [
        "### Problem 7\n",
        "\n",
        "Why does the following code output `0.30000000000000004` instead of just `0.3`?  Is there something wrong with Python's addition???"
      ],
      "metadata": {
        "id": "Z54lZEYLAFz7"
      }
    },
    {
      "cell_type": "code",
      "source": [
        "0.1 + 0.1 + 0.1"
      ],
      "metadata": {
        "id": "Q4xvxEV6BIaL",
        "colab": {
          "base_uri": "https://localhost:8080/"
        },
        "outputId": "f2fbcf36-5413-4820-a7d1-04d2a1f93343"
      },
      "execution_count": 3,
      "outputs": [
        {
          "output_type": "execute_result",
          "data": {
            "text/plain": [
              "0.30000000000000004"
            ]
          },
          "metadata": {},
          "execution_count": 3
        }
      ]
    },
    {
      "cell_type": "code",
      "source": [],
      "metadata": {
        "id": "aNXJP4QqAKV7"
      },
      "execution_count": null,
      "outputs": []
    }
  ]
}